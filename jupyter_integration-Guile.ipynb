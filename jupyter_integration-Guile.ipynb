{
 "cells": [
  {
   "cell_type": "code",
   "execution_count": 1,
   "id": "alive-simon",
   "metadata": {},
   "outputs": [
    {
     "ename": "ModuleNotFoundError",
     "evalue": "No module named 'b2d'",
     "output_type": "error",
     "traceback": [
      "\u001b[0;31m---------------------------------------------------------------------------\u001b[0m",
      "\u001b[0;31mModuleNotFoundError\u001b[0m                       Traceback (most recent call last)",
      "\u001b[0;32m<ipython-input-1-1178107781d1>\u001b[0m in \u001b[0;36m<module>\u001b[0;34m\u001b[0m\n\u001b[0;32m----> 1\u001b[0;31m \u001b[0;32mfrom\u001b[0m \u001b[0mb2d\u001b[0m\u001b[0;34m.\u001b[0m\u001b[0mtestbed\u001b[0m\u001b[0;34m.\u001b[0m\u001b[0mbackend\u001b[0m\u001b[0;34m.\u001b[0m\u001b[0mjupyter\u001b[0m \u001b[0;32mimport\u001b[0m \u001b[0mJupyterGui\u001b[0m\u001b[0;34m\u001b[0m\u001b[0;34m\u001b[0m\u001b[0m\n\u001b[0m\u001b[1;32m      2\u001b[0m \u001b[0;32mimport\u001b[0m \u001b[0mipywidgets\u001b[0m\u001b[0;34m\u001b[0m\u001b[0;34m\u001b[0m\u001b[0m\n\u001b[1;32m      3\u001b[0m \u001b[0;32mimport\u001b[0m \u001b[0mipycanvas\u001b[0m\u001b[0;34m\u001b[0m\u001b[0;34m\u001b[0m\u001b[0m\n\u001b[1;32m      4\u001b[0m \u001b[0;32mimport\u001b[0m \u001b[0mb2d\u001b[0m\u001b[0;34m\u001b[0m\u001b[0;34m\u001b[0m\u001b[0m\n\u001b[1;32m      5\u001b[0m \u001b[0;32mimport\u001b[0m \u001b[0mrandom\u001b[0m\u001b[0;34m\u001b[0m\u001b[0;34m\u001b[0m\u001b[0m\n",
      "\u001b[0;31mModuleNotFoundError\u001b[0m: No module named 'b2d'"
     ]
    }
   ],
   "source": [
    "from b2d.testbed.backend.jupyter import JupyterGui\n",
    "import ipywidgets\n",
    "import ipycanvas\n",
    "import b2d\n",
    "import random"
   ]
  },
  {
   "cell_type": "markdown",
   "id": "operating-moscow",
   "metadata": {},
   "source": [
    "# Newtons Cradle\n",
    "Here we try to implement \n",
    "[newtons cradle](https://en.wikipedia.org/wiki/Newton%27s_cradle) in Box2D\n",
    "The source code for the example is in `plot_newtons_cradle.py`\n",
    "\n",
    "![Image](https://upload.wikimedia.org/wikipedia/commons/d/d3/Newtons_cradle_animation_book_2.gif)"
   ]
  },
  {
   "cell_type": "code",
   "execution_count": null,
   "id": "otherwise-sodium",
   "metadata": {},
   "outputs": [],
   "source": [
    "from plot_newtons_cradle import NewtonsCradle  as Example\n",
    "s = JupyterGui.Settings(resolution=[800,300])\n",
    "Example.run(JupyterGui, gui_settings=s)"
   ]
  },
  {
   "cell_type": "markdown",
   "id": "rotary-packet",
   "metadata": {},
   "source": [
    "<p style=text-align: center>\n",
    "    <img src=https://upload.wikimedia.org/wikipedia/commons/thumb/5/52/Angry_Birds_logo_2015.svg/2880px-Angry_Birds_logo_2015.svg.png width=30%>\n",
    "</p>\n",
    "The following shows an example simmilar to the game \"Angry Birds\"\n",
    "   "
   ]
  },
  {
   "cell_type": "code",
   "execution_count": null,
   "id": "basic-enclosure",
   "metadata": {},
   "outputs": [],
   "source": [
    "from plot_angry_shapes import AngryShapes  as Example\n",
    "settings = JupyterGui.Settings(fps=30, scale=2, translate=(20,100), resolution=(1000,500))\n",
    "Example.run(JupyterGui,gui_settings=settings)"
   ]
  }
 ],
 "metadata": {
  "kernelspec": {
   "display_name": "Python 3",
   "language": "python",
   "name": "python3"
  },
  "language_info": {
   "codemirror_mode": {
    "name": "ipython",
    "version": 3
   },
   "file_extension": ".py",
   "mimetype": "text/x-python",
   "name": "python",
   "nbconvert_exporter": "python",
   "pygments_lexer": "ipython3",
   "version": "3.7.3"
  }
 },
 "nbformat": 4,
 "nbformat_minor": 5
}
